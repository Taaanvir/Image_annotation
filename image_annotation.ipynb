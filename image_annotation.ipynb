{
  "cells": [
    {
      "cell_type": "markdown",
      "metadata": {
        "id": "view-in-github",
        "colab_type": "text"
      },
      "source": [
        "<a href=\"https://colab.research.google.com/github/Taaanvir/Image_annotation/blob/main/image_annotation.ipynb\" target=\"_parent\"><img src=\"https://colab.research.google.com/assets/colab-badge.svg\" alt=\"Open In Colab\"/></a>"
      ]
    },
    {
      "cell_type": "markdown",
      "metadata": {
        "id": "6q50RXkyQcho"
      },
      "source": [
        "### Clone the code repository from github"
      ]
    },
    {
      "cell_type": "code",
      "execution_count": 5,
      "metadata": {
        "id": "7y0LG1EuaRlB",
        "outputId": "04aede38-0f90-41a8-ba9d-9609e5960139",
        "colab": {
          "base_uri": "https://localhost:8080/"
        }
      },
      "outputs": [
        {
          "output_type": "stream",
          "name": "stdout",
          "text": [
            "Cloning into 'Image_annotation'...\n",
            "remote: Enumerating objects: 20, done.\u001b[K\n",
            "remote: Counting objects: 100% (20/20), done.\u001b[K\n",
            "remote: Compressing objects: 100% (20/20), done.\u001b[K\n",
            "remote: Total 20 (delta 5), reused 0 (delta 0), pack-reused 0\u001b[K\n",
            "Receiving objects: 100% (20/20), 608.66 KiB | 2.11 MiB/s, done.\n",
            "Resolving deltas: 100% (5/5), done.\n"
          ]
        }
      ],
      "source": [
        "!git clone https://github.com/Taaanvir/Image_annotation.git\n"
      ]
    },
    {
      "cell_type": "markdown",
      "metadata": {
        "id": "O55NhceKQch1"
      },
      "source": [
        "### Unzip necessary folder from the repository"
      ]
    },
    {
      "cell_type": "code",
      "execution_count": 6,
      "metadata": {
        "id": "SsUv-FM8Qch2"
      },
      "outputs": [],
      "source": [
        "!unzip -qq /content/Image_annotation/main.zip"
      ]
    },
    {
      "cell_type": "markdown",
      "metadata": {
        "id": "Tr1JGLh3Qch3"
      },
      "source": [
        "### Change the current directory"
      ]
    },
    {
      "cell_type": "code",
      "execution_count": 7,
      "metadata": {
        "id": "vf1qsBXdQch3",
        "outputId": "8faa965a-fd59-4603-b7e6-3abb5b8f75a2",
        "colab": {
          "base_uri": "https://localhost:8080/"
        }
      },
      "outputs": [
        {
          "output_type": "stream",
          "name": "stdout",
          "text": [
            "/content/main\n"
          ]
        }
      ],
      "source": [
        "%cd main"
      ]
    },
    {
      "cell_type": "markdown",
      "metadata": {
        "id": "wcrOk6pURp50"
      },
      "source": [
        "### Import the necessary packages"
      ]
    },
    {
      "cell_type": "code",
      "execution_count": 8,
      "metadata": {
        "id": "VJaCNlDDRz6d"
      },
      "outputs": [],
      "source": [
        "from skimage.metrics import structural_similarity as compare_ssim\n",
        "import matplotlib.pyplot as plt\n",
        "import argparse\n",
        "import imutils\n",
        "import cv2"
      ]
    },
    {
      "cell_type": "markdown",
      "metadata": {
        "id": "lBrLwCtN5kqy"
      },
      "source": [
        "### Function to convert the image frame BGR to RGB color space and display it in google colab editor"
      ]
    },
    {
      "cell_type": "code",
      "execution_count": 9,
      "metadata": {
        "id": "fRw969Dp5Kdm"
      },
      "outputs": [],
      "source": [
        "def plt_imshow(title, image):\n",
        "\timage = cv2.cvtColor(image, cv2.COLOR_BGR2RGB)\n",
        "\tplt.imshow(image)\n",
        "\tplt.title(title)\n",
        "\tplt.grid(False)\n",
        "\tplt.show()"
      ]
    },
    {
      "cell_type": "markdown",
      "metadata": {
        "id": "rDpwWl75cxqe"
      },
      "source": [
        "### Compute image annotation from parsing code with arguments and values"
      ]
    },
    {
      "cell_type": "code",
      "execution_count": 10,
      "metadata": {
        "id": "pxhM0vKccn__"
      },
      "outputs": [],
      "source": [
        "# construct the argument parse and parse the arguments\n",
        "# ap = argparse.ArgumentParser()\n",
        "# ap.add_argument(\"-f\", \"--first\", required=True,\n",
        "# help=\"first input image\")\n",
        "# ap.add_argument(\"-s\", \"--second\", required=True,\n",
        "# help=\"second\")\n",
        "# args = vars(ap.parse_args())\n",
        "\n",
        "args = {\n",
        "\t\"first\": \"images/original.png\",\n",
        "\t\"second\": \"images/modified.png\"\n",
        "}"
      ]
    },
    {
      "cell_type": "markdown",
      "metadata": {
        "id": "RXS_XWZJQciB"
      },
      "source": [
        "### Load these two input images and convert into grayscale copy"
      ]
    },
    {
      "cell_type": "code",
      "execution_count": 11,
      "metadata": {
        "id": "K7vgFyhmc_35"
      },
      "outputs": [],
      "source": [
        "imageA = cv2.imread(args[\"first\"])\n",
        "imageB = cv2.imread(args[\"second\"])\n",
        "\n",
        "grayA = cv2.cvtColor(imageA, cv2.COLOR_BGR2GRAY)\n",
        "grayB = cv2.cvtColor(imageB, cv2.COLOR_BGR2GRAY)"
      ]
    },
    {
      "cell_type": "markdown",
      "metadata": {
        "id": "QsrVeC4AQciC"
      },
      "source": [
        "### Compute the SSIM between these two images"
      ]
    },
    {
      "cell_type": "code",
      "execution_count": 12,
      "metadata": {
        "id": "su1ESwdKdCvS",
        "outputId": "d7b6758c-4d7a-41c6-faba-b5c7ef58bfea",
        "colab": {
          "base_uri": "https://localhost:8080/"
        }
      },
      "outputs": [
        {
          "output_type": "stream",
          "name": "stdout",
          "text": [
            "SSIM: 0.973489885501106\n"
          ]
        }
      ],
      "source": [
        "(score, diff) = compare_ssim(grayA, grayB, full=True)\n",
        "diff = (diff * 255).astype(\"uint8\")\n",
        "print(\"SSIM: {}\".format(score))"
      ]
    },
    {
      "cell_type": "markdown",
      "metadata": {
        "id": "z5ZZq-EOQciE"
      },
      "source": [
        "### Threshold the image annotation followed by the below finding contours"
      ]
    },
    {
      "cell_type": "code",
      "execution_count": 13,
      "metadata": {
        "id": "N2fH_ZArdFI7"
      },
      "outputs": [],
      "source": [
        "thresh = cv2.threshold(diff, 0, 255,\n",
        "\tcv2.THRESH_BINARY_INV | cv2.THRESH_OTSU)[1]\n",
        "cnts = cv2.findContours(thresh.copy(), cv2.RETR_EXTERNAL,\n",
        "\tcv2.CHAIN_APPROX_SIMPLE)\n",
        "cnts = imutils.grab_contours(cnts)"
      ]
    },
    {
      "cell_type": "markdown",
      "metadata": {
        "id": "IbqjyOMsQciF"
      },
      "source": [
        "### Loop over the contours and compute the bounding box to draw on both input images to represent where these two images differ"
      ]
    },
    {
      "cell_type": "code",
      "execution_count": 14,
      "metadata": {
        "id": "TDC7phWHdOay"
      },
      "outputs": [],
      "source": [
        "for c in cnts:\n",
        "\t(x, y, w, h) = cv2.boundingRect(c)\n",
        "\tcv2.rectangle(imageA, (x, y), (x + w, y + h), (0, 0, 255), 2)\n",
        "\tcv2.rectangle(imageB, (x, y), (x + w, y + h), (0, 0, 255), 2)"
      ]
    },
    {
      "cell_type": "markdown",
      "metadata": {
        "id": "WuEhfMcYQciH"
      },
      "source": [
        "### Show the output"
      ]
    },
    {
      "cell_type": "code",
      "execution_count": null,
      "metadata": {
        "id": "wxovzjmSQciI"
      },
      "outputs": [],
      "source": [
        "plt_imshow(\"Original\", imageA)\n",
        "plt_imshow(\"Modified\", imageB)\n",
        "plt_imshow(\"Diff\", diff)\n",
        "plt_imshow(\"Thresh\", thresh)"
      ]
    }
  ],
  "metadata": {
    "colab": {
      "name": "image_difference.ipynb",
      "provenance": [],
      "include_colab_link": true
    },
    "kernelspec": {
      "display_name": "Python 3",
      "name": "python3"
    },
    "language_info": {
      "name": "python",
      "version": "3.9.6"
    }
  },
  "nbformat": 4,
  "nbformat_minor": 0
}